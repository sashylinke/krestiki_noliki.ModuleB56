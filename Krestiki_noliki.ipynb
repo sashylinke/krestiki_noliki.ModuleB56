{
 "cells": [
  {
   "cell_type": "code",
   "execution_count": null,
   "id": "5814debb-3f17-4563-8897-a83e022a527d",
   "metadata": {},
   "outputs": [
    {
     "name": "stdout",
     "output_type": "stream",
     "text": [
      "  0 1 2\n",
      "0 - - -\n",
      "1 - - -\n",
      "2 - - -\n"
     ]
    }
   ],
   "source": [
    "pole = [['-'] * 3 for _ in range(3)]\n",
    "def chertim_pole(f):\n",
    "    print('  0 1 2')\n",
    "    for i in range(len(pole)):\n",
    "        print(str(i), *pole[i])\n",
    "def xo_input(f,user):\n",
    "    while True:\n",
    "        place=input(f\"Ходит {user} .Введите координаты:\").split()\n",
    "        if len(place)!=2:\n",
    "            print('Введите две координаты')\n",
    "            continue\n",
    "        if not(place[0].isdigit() and place[1].isdigit()):\n",
    "            print('Введите числа')\n",
    "            continue\n",
    "        x, y = map(int, place)\n",
    "        if not(x>=0 and x<3 and y>=0 and  y<3):\n",
    "            print('Вышли из диапазона')\n",
    "            continue\n",
    "        if f[x][y]!='-':\n",
    "            print('Клетка занята')\n",
    "            continue\n",
    "        break\n",
    "    return x,y\n",
    "def proverka(f,user):\n",
    "    f_list=[]\n",
    "    for l in f:\n",
    "        f_list+=l\n",
    "    positions=[[0,1,2],[3,4,5],[6,7,8],[0,3,6],[1,4,7],[2,5,8],[0,4,8],[2,4,6]]\n",
    "    indices = set([i for i, x in enumerate(f_list) if x == user])\n",
    "    for p in positions:\n",
    "        if len(indices.intersection(set(p)))==3:\n",
    "            return True\n",
    "    return False\n",
    "def start(pole):\n",
    "    count=0\n",
    "    while True:\n",
    "        chertim_pole(pole)\n",
    "        if count%2==0:\n",
    "            user='X'\n",
    "        else:\n",
    "            user = 'O'\n",
    "        if count<9:\n",
    "            x, y = xo_input(pole,user)\n",
    "            pole[x][y] = user\n",
    "        elif count==9:\n",
    "            print ('Ничья')\n",
    "            break\n",
    "        if proverka(pole,user):\n",
    "            print(f\"Выйграл {user}\")\n",
    "            break\n",
    "        count+=1\n",
    "start(pole)\n"
   ]
  },
  {
   "cell_type": "code",
   "execution_count": null,
   "id": "1d9eb4a9-e303-49f3-aff6-a0264ef4105c",
   "metadata": {},
   "outputs": [],
   "source": []
  }
 ],
 "metadata": {
  "kernelspec": {
   "display_name": "Python 3 (ipykernel)",
   "language": "python",
   "name": "python3"
  },
  "language_info": {
   "codemirror_mode": {
    "name": "ipython",
    "version": 3
   },
   "file_extension": ".py",
   "mimetype": "text/x-python",
   "name": "python",
   "nbconvert_exporter": "python",
   "pygments_lexer": "ipython3",
   "version": "3.11.0"
  }
 },
 "nbformat": 4,
 "nbformat_minor": 5
}
